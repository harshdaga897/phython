{
  "nbformat": 4,
  "nbformat_minor": 0,
  "metadata": {
    "colab": {
      "provenance": []
    },
    "kernelspec": {
      "name": "python3",
      "display_name": "Python 3"
    },
    "language_info": {
      "name": "python"
    }
  },
  "cells": [
    {
      "cell_type": "markdown",
      "source": [
        "## Theory"
      ],
      "metadata": {
        "id": "yJdCwJfrK8e1"
      }
    },
    {
      "cell_type": "markdown",
      "source": [
        "1. What is a RESTful API?\n",
        "A RESTful API (Representational State Transfer) is an architectural style for designing APIs using HTTP methods like GET, POST, PUT, DELETE to operate on resources. Each request is stateless and resources are identified via URLs.\n",
        "\n",
        "2. Explain the concept of API Specification\n",
        "An API specification defines how an API should work, including:\n",
        "- Endpoints\n",
        "- HTTP methods\n",
        "- Request/response formats\n",
        "- Authentication mechanisms\n",
        "Example: OpenAPI (Swagger).\n",
        "\n",
        "3. What is Flask, and why is it popular for building APIs?\n",
        "Flask is a lightweight Python web framework.\n",
        "It is popular because:\n",
        "- It is simple and minimal.\n",
        "- It is highly flexible.\n",
        "- It has a rich ecosystem with extensions like Flask-RESTful and Flask-SQLAlchemy.\n",
        "\n",
        "4. What is routing in Flask?\n",
        "Routing in Flask maps URLs to Python functions called view functions using the @app.route() decorator.\n",
        "\n",
        "5. How do you create a simple Flask application?\n",
        "A simple Flask application can be created by defining a route that returns a response to the user.\n",
        "Example:\n",
        "from flask import Flask\n",
        "app = Flask(__name__)\n",
        "\n",
        "@app.route('/')\n",
        "def home():\n",
        "    return \"Hello, World!\"\n",
        "\n",
        "if __name__ == \"__main__\":\n",
        "    app.run(debug=True)\n",
        "\n",
        "6. What are HTTP methods used in RESTful APIs?\n",
        "- GET: Retrieve data.\n",
        "- POST: Create new resource.\n",
        "- PUT: Update existing resource.\n",
        "- PATCH: Partially update resource.\n",
        "- DELETE: Delete resource.\n",
        "\n",
        "7. What is the purpose of the @app.route() decorator in Flask?\n",
        "It binds a URL to a Python function, telling Flask which function to call when that route is accessed.\n",
        "\n",
        "8. What is the difference between GET and POST HTTP methods?\n",
        "- GET: Retrieves information without changing server state.\n",
        "- POST: Sends data to create or update a resource.\n",
        "\n",
        "9. How do you handle errors in Flask APIs?\n",
        "You can handle errors in Flask using the `@app.errorhandler()` decorator to catch specific HTTP errors.\n",
        "\n",
        "10. How do you connect Flask to a SQL database?\n",
        "Flask can connect to a SQL database using the Flask-SQLAlchemy extension.\n",
        "\n",
        "11. What is the role of Flask-SQLAlchemy?\n",
        "It integrates SQLAlchemy ORM with Flask, simplifying database operations.\n",
        "\n",
        "12. What are Flask blueprints, and how are they useful?\n",
        "Blueprints allow modular organization of a Flask app into components. They help in structuring large applications, reusing code, and separating logic.\n",
        "\n",
        "13. What is the purpose of Flask's request object?\n",
        "The request object contains incoming request data like form data, query strings, JSON payloads, and headers.\n",
        "\n",
        "14. How do you create a RESTful API endpoint using Flask?\n",
        "A RESTful API endpoint can be created using Flask's route decorator to define a URL that returns JSON data.\n",
        "Example:\n",
        "from flask import Flask, jsonify\n",
        "\n",
        "app = Flask(__name__)\n",
        "\n",
        "@app.route('/api/info', methods=['GET'])\n",
        "def get_info():\n",
        "    return jsonify({\"project\": \"Flask API\", \"version\": \"1.0\"})\n",
        "\n",
        "if __name__ == \"__main__\":\n",
        "    app.run(debug=True)\n",
        "\n",
        "15. What is the purpose of Flask's jsonify() function?\n",
        "The jsonify() function converts Python dictionaries or lists into JSON responses and automatically sets the appropriate `Content-Type: application/json` header.\n",
        "\n",
        "16. Explain Flask’s url_for() function\n",
        "The url_for() function dynamically generates URLs for view functions, helping avoid hardcoded URLs in your code.\n",
        "\n",
        "17. How does Flask handle static files (CSS, JavaScript, etc.)?\n",
        "Flask serves static files from the `/static/` directory, and these files can be accessed using the `/static/filename.ext` URL.\n",
        "\n",
        "18. What is an API specification, and how does it help in building a Flask API?\n",
        "An API specification defines the structure of the API, including endpoints, methods, request/response formats, and authentication. It helps maintain consistency, enables better collaboration, and makes documentation easier.\n",
        "\n",
        "19. What are HTTP status codes, and why are they important in a Flask API?\n",
        "HTTP status codes indicate the result of an HTTP request and are important for error handling and client communication.\n",
        "- 200 OK: Successful request.\n",
        "- 404 Not Found: Resource not found.\n",
        "- 500 Internal Server Error: Server error.\n",
        "\n",
        "20. How do you handle POST requests in Flask?\n",
        "POST requests in Flask can be handled by using the `@app.route()` decorator with the `POST` method, and processing the request data from the body (usually in JSON format).\n",
        "\n",
        "21. How would you secure a Flask API?\n",
        "To secure a Flask API:\n",
        "- Use HTTPS.\n",
        "- Authenticate requests using tokens (like JWT).\n",
        "- Validate input and sanitize user data.\n",
        "- Apply rate limiting.\n",
        "- Handle errors properly to avoid exposing sensitive information.\n",
        "\n",
        "22. What is the significance of the Flask-RESTful extension?\n",
        "Flask-RESTful is an extension for Flask that simplifies the creation of REST APIs. It provides tools for resource-based routing, request parsing, and response formatting.\n",
        "\n",
        "23. What is the role of Flask's session object?\n",
        "The session object in Flask stores data across multiple requests from the same user, typically for tracking user sessions (such as logged-in users), and it stores data in secure cookies.\n"
      ],
      "metadata": {
        "id": "tBveX4E5LCaY"
      }
    },
    {
      "cell_type": "markdown",
      "source": [
        "## Practical"
      ],
      "metadata": {
        "id": "tDsSInE-LRuZ"
      }
    },
    {
      "cell_type": "code",
      "source": [
        "# 1. How do you create a basic Flask application?\n",
        "from flask import Flask\n",
        "\n",
        "app = Flask(__name__)\n",
        "\n",
        "@app.route('/')\n",
        "def home():\n",
        "    return \"Hello, World!\"\n",
        "\n",
        "if __name__ == \"__main__\":\n",
        "    app.run(debug=True)\n"
      ],
      "metadata": {
        "colab": {
          "base_uri": "https://localhost:8080/"
        },
        "id": "WtRU0j_QLYYA",
        "outputId": "0e65209c-c936-444b-b665-50e8256c4e42"
      },
      "execution_count": null,
      "outputs": [
        {
          "output_type": "stream",
          "name": "stdout",
          "text": [
            " * Serving Flask app '__main__'\n",
            " * Debug mode: on\n"
          ]
        },
        {
          "output_type": "stream",
          "name": "stderr",
          "text": [
            "INFO:werkzeug:\u001b[31m\u001b[1mWARNING: This is a development server. Do not use it in a production deployment. Use a production WSGI server instead.\u001b[0m\n",
            " * Running on http://127.0.0.1:5000\n",
            "INFO:werkzeug:\u001b[33mPress CTRL+C to quit\u001b[0m\n",
            "INFO:werkzeug: * Restarting with stat\n"
          ]
        }
      ]
    },
    {
      "cell_type": "code",
      "source": [
        "# 2. How do you serve static files like images or CSS in Flask?\n",
        "\n",
        "# Static files (images, CSS, JS) are stored in the \"static\" directory in Flask.\n",
        "# You can access them using the /static/ prefix in the URL.\n",
        "\n",
        "# Example:\n",
        "# - /static/images/image.jpg\n"
      ],
      "metadata": {
        "id": "JQY9iDnKLx5F"
      },
      "execution_count": null,
      "outputs": []
    },
    {
      "cell_type": "code",
      "source": [
        "# 3. How do you define different routes with different HTTP methods in Flask?\n",
        "from flask import Flask\n",
        "\n",
        "app = Flask(__name__)\n",
        "\n",
        "@app.route('/', methods=['GET'])\n",
        "def get_home():\n",
        "    return \"GET request to home\"\n",
        "\n",
        "@app.route('/', methods=['POST'])\n",
        "def post_home():\n",
        "    return \"POST request to home\"\n",
        "\n",
        "if __name__ == \"__main__\":\n",
        "    app.run(debug=True)\n"
      ],
      "metadata": {
        "colab": {
          "base_uri": "https://localhost:8080/"
        },
        "id": "gX2umzhJL7Fp",
        "outputId": "99eb9270-2d5c-45a1-a18c-7bfb21e104ee"
      },
      "execution_count": null,
      "outputs": [
        {
          "output_type": "stream",
          "name": "stdout",
          "text": [
            " * Serving Flask app '__main__'\n",
            " * Debug mode: on\n"
          ]
        },
        {
          "output_type": "stream",
          "name": "stderr",
          "text": [
            "INFO:werkzeug:\u001b[31m\u001b[1mWARNING: This is a development server. Do not use it in a production deployment. Use a production WSGI server instead.\u001b[0m\n",
            " * Running on http://127.0.0.1:5000\n",
            "INFO:werkzeug:\u001b[33mPress CTRL+C to quit\u001b[0m\n",
            "INFO:werkzeug: * Restarting with stat\n"
          ]
        }
      ]
    },
    {
      "cell_type": "code",
      "source": [
        "# 4. How do you render HTML templates in Flask?\n",
        "from flask import Flask, render_template\n",
        "\n",
        "app = Flask(__name__)\n",
        "\n",
        "@app.route('/')\n",
        "def home():\n",
        "    return render_template('home.html')  # The template home.html should be in the 'templates' folder\n",
        "\n",
        "if __name__ == \"__main__\":\n",
        "    app.run(debug=True)\n"
      ],
      "metadata": {
        "id": "RX_Fl3oXL-qA"
      },
      "execution_count": null,
      "outputs": []
    },
    {
      "cell_type": "code",
      "source": [
        "# 5. How can you generate URLs for routes in Flask using url_for?\n",
        "from flask import Flask, url_for\n",
        "\n",
        "app = Flask(__name__)\n",
        "\n",
        "@app.route('/')\n",
        "def home():\n",
        "    return 'Home Page'\n",
        "\n",
        "@app.route('/profile')\n",
        "def profile():\n",
        "    return 'User Profile'\n",
        "\n",
        "@app.route('/redirect_home')\n",
        "def redirect_home():\n",
        "    return redirect(url_for('home'))\n",
        "\n",
        "if __name__ == \"__main__\":\n",
        "    app.run(debug=True)\n"
      ],
      "metadata": {
        "id": "JUdHIAjfMG7S"
      },
      "execution_count": null,
      "outputs": []
    },
    {
      "cell_type": "code",
      "source": [
        "# 6. How do you handle forms in Flask?\n",
        "from flask import Flask, request, render_template\n",
        "\n",
        "app = Flask(__name__)\n",
        "\n",
        "@app.route('/', methods=['GET', 'POST'])\n",
        "def home():\n",
        "    if request.method == 'POST':\n",
        "        name = request.form['name']\n",
        "        return f\"Hello, {name}!\"\n",
        "    return render_template('form.html')\n",
        "\n",
        "if __name__ == \"__main__\":\n",
        "    app.run(debug=True)\n"
      ],
      "metadata": {
        "id": "0HRDMGjbMKiK"
      },
      "execution_count": null,
      "outputs": []
    },
    {
      "cell_type": "code",
      "source": [
        "# 7. How can you validate form data in Flask?\n",
        "from flask import Flask, request, render_template, flash\n",
        "\n",
        "app = Flask(__name__)\n",
        "app.secret_key = 'some_secret'\n",
        "\n",
        "@app.route('/', methods=['GET', 'POST'])\n",
        "def home():\n",
        "    if request.method == 'POST':\n",
        "        name = request.form['name']\n",
        "        if len(name) < 3:\n",
        "            flash('Name must be at least 3 characters long.')\n",
        "        else:\n",
        "            return f\"Hello, {name}!\"\n",
        "    return render_template('form.html')\n",
        "\n",
        "if __name__ == \"__main__\":\n",
        "    app.run(debug=True)\n"
      ],
      "metadata": {
        "id": "ZPV39yq1MUNX"
      },
      "execution_count": null,
      "outputs": []
    },
    {
      "cell_type": "code",
      "source": [
        "# 8. How do you manage sessions in Flask?\n",
        "from flask import Flask, session, redirect, url_for\n",
        "\n",
        "app = Flask(__name__)\n",
        "app.secret_key = 'some_secret'\n",
        "\n",
        "@app.route('/')\n",
        "def index():\n",
        "    session['username'] = 'JohnDoe'\n",
        "    return \"Session Set\"\n",
        "\n",
        "@app.route('/get_session')\n",
        "def get_session():\n",
        "    username = session.get('username', 'Guest')\n",
        "    return f\"Logged in as {username}\"\n",
        "\n",
        "if __name__ == \"__main__\":\n",
        "    app.run(debug=True)\n"
      ],
      "metadata": {
        "id": "8lLeO7bsMbL8"
      },
      "execution_count": null,
      "outputs": []
    },
    {
      "cell_type": "code",
      "source": [
        "# 9. How do you redirect to a different route in Flask?\n",
        "from flask import Flask, redirect, url_for\n",
        "\n",
        "app = Flask(__name__)\n",
        "\n",
        "@app.route('/')\n",
        "def home():\n",
        "    return \"Home Page\"\n",
        "\n",
        "@app.route('/about')\n",
        "def about():\n",
        "    return \"About Page\"\n",
        "\n",
        "@app.route('/redirect_to_about')\n",
        "def redirect_to_about():\n",
        "    return redirect(url_for('about'))\n",
        "\n",
        "if __name__ == \"__main__\":\n",
        "    app.run(debug=True)\n"
      ],
      "metadata": {
        "id": "d8jj1EH_MeUf"
      },
      "execution_count": null,
      "outputs": []
    },
    {
      "cell_type": "code",
      "source": [
        "# 10. How do you handle errors in Flask (e.g., 404)?\n",
        "from flask import Flask\n",
        "\n",
        "app = Flask(__name__)\n",
        "\n",
        "@app.route('/')\n",
        "def home():\n",
        "    return \"Home Page\"\n",
        "\n",
        "@app.errorhandler(404)\n",
        "def not_found(error):\n",
        "    return \"Page not found!\", 404\n",
        "\n",
        "if __name__ == \"__main__\":\n",
        "    app.run(debug=True)\n"
      ],
      "metadata": {
        "id": "9zqCVAK1Mk-v"
      },
      "execution_count": null,
      "outputs": []
    },
    {
      "cell_type": "code",
      "source": [
        "# 11. How do you structure a Flask app using Blueprints?\n",
        "from flask import Flask, Blueprint\n",
        "\n",
        "# Create a Blueprint\n",
        "home_bp = Blueprint('home', __name__)\n",
        "\n",
        "@home_bp.route('/')\n",
        "def home():\n",
        "    return \"Home Page\"\n",
        "\n",
        "app = Flask(__name__)\n",
        "app.register_blueprint(home_bp)\n",
        "\n",
        "if __name__ == \"__main__\":\n",
        "    app.run(debug=True)\n"
      ],
      "metadata": {
        "id": "dxXjcJ-6MySR"
      },
      "execution_count": null,
      "outputs": []
    },
    {
      "cell_type": "code",
      "source": [
        "# 12. How do you define a custom Jinja filter in Flask?\n",
        "from flask import Flask\n",
        "\n",
        "app = Flask(__name__)\n",
        "\n",
        "# Define a custom filter\n",
        "@app.template_filter('reverse')\n",
        "def reverse_filter(s):\n",
        "    return s[::-1]\n",
        "\n",
        "@app.route('/')\n",
        "def home():\n",
        "    return render_template('index.html')\n",
        "if __name__ == \"__main__\":\n",
        "    app.run(debug=True)\n"
      ],
      "metadata": {
        "id": "vS24VHQbM3xk"
      },
      "execution_count": null,
      "outputs": []
    },
    {
      "cell_type": "code",
      "source": [
        "# 13. How can you redirect with query parameters in Flask?\n",
        "from flask import Flask, redirect, url_for\n",
        "\n",
        "app = Flask(__name__)\n",
        "\n",
        "@app.route('/redirect_with_query')\n",
        "def redirect_with_query():\n",
        "    return redirect(url_for('home', name='John'))\n",
        "\n",
        "@app.route('/')\n",
        "def home():\n",
        "    name = request.args.get('name', 'Guest')\n",
        "    return f\"Hello, {name}!\"\n",
        "\n",
        "if __name__ == \"__main__\":\n",
        "    app.run(debug=True)\n"
      ],
      "metadata": {
        "id": "Q5EDFZEnM8WK"
      },
      "execution_count": null,
      "outputs": []
    },
    {
      "cell_type": "code",
      "source": [
        "# 14. How do you return JSON responses in Flask?\n",
        "from flask import Flask, jsonify\n",
        "\n",
        "app = Flask(__name__)\n",
        "\n",
        "@app.route('/api')\n",
        "def api():\n",
        "    return jsonify({\"message\": \"Hello, World!\"})\n",
        "\n",
        "if __name__ == \"__main__\":\n",
        "    app.run(debug=True)\n"
      ],
      "metadata": {
        "id": "mRs3b8T3NByM"
      },
      "execution_count": null,
      "outputs": []
    },
    {
      "cell_type": "code",
      "source": [
        "# 15. How do you capture URL parameters in Flask?\n",
        "from flask import Flask\n",
        "\n",
        "app = Flask(__name__)\n",
        "\n",
        "@app.route('/user/<username>')\n",
        "def show_user(username):\n",
        "    return f\"User: {username}\"\n",
        "\n",
        "if __name__ == \"__main__\":\n",
        "    app.run(debug=True)\n"
      ],
      "metadata": {
        "id": "piOTTZRCNJn1"
      },
      "execution_count": null,
      "outputs": []
    }
  ]
}