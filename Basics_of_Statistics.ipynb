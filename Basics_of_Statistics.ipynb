{
  "nbformat": 4,
  "nbformat_minor": 0,
  "metadata": {
    "colab": {
      "provenance": []
    },
    "kernelspec": {
      "name": "python3",
      "display_name": "Python 3"
    },
    "language_info": {
      "name": "python"
    }
  },
  "cells": [
    {
      "cell_type": "markdown",
      "source": [
        "## Theory\n"
      ],
      "metadata": {
        "id": "Kdv7jQRmZNhJ"
      }
    },
    {
      "cell_type": "markdown",
      "source": [
        "1. Explain the different types of data (qualitative and quantitative) and provide examples of each. Discuss nominal, ordinal, interval, and ratio scales.\n",
        "\n",
        "Qualitative Data: Describes non-numerical categories.  \n",
        "- Nominal: No order (e.g., colors, gender)  \n",
        "- Ordinal: Ordered categories (e.g., satisfaction level: low, medium, high)\n",
        "\n",
        "Quantitative Data: Represents numerical values.  \n",
        "- Interval: Measurable difference, no true zero (e.g., temperature in Celsius)  \n",
        "- Ratio: True zero exists (e.g., age, height, weight)\n",
        "\n",
        "2. What are the measures of central tendency, and when should you use each? Discuss the mean, median, and mode with examples and situations where each is appropriate.\n",
        "\n",
        "Mean: Use when data is symmetric and no outliers. Example: average test scores  \n",
        "Median: Best for skewed data. Example: median income  \n",
        "Mode: Best for categorical data. Example: most common shoe size\n",
        "\n",
        "3. Explain the concept of dispersion. How do variance and standard deviation measure the spread of data?\n",
        "\n",
        "Dispersion shows how spread out the values are in a dataset.  \n",
        "Variance: The average of the squared differences from the mean  \n",
        "Standard Deviation: The square root of variance; same unit as data\n",
        "\n",
        "4. What is a box plot, and what can it tell you about the distribution of data?\n",
        "\n",
        "A box plot visualizes:  \n",
        "- Minimum  \n",
        "- First Quartile (Q1)  \n",
        "- Median (Q2)  \n",
        "- Third Quartile (Q3)  \n",
        "- Maximum  \n",
        "\n",
        "It helps detect skewness, spread, and outliers.\n",
        "\n",
        "5. Discuss the role of random sampling in making inferences about populations.\n",
        "\n",
        "Random sampling ensures every individual in the population has an equal chance of being selected. It reduces bias and allows generalization from the sample to the population.\n",
        "\n",
        "6. Explain the concept of skewness and its types. How does skewness affect the interpretation of data?\n",
        "\n",
        "Skewness measures the asymmetry of the distribution.  \n",
        "Right skewed (positive): Tail is on the right, mean > median  \n",
        "Left skewed (negative): Tail is on the left, mean < median  \n",
        "Skewness influences which measure of central tendency is most accurate\n",
        "\n",
        "7. What is the interquartile range (IQR), and how is it used to detect outliers?\n",
        "\n",
        "IQR = Q3 - Q1  \n",
        "Outliers are typically:  \n",
        "- Below Q1 - 1.5 × IQR  \n",
        "- Above Q3 + 1.5 × IQR  \n",
        "IQR helps identify the central spread and extreme values\n",
        "\n",
        "8. Discuss the conditions under which the binomial distribution is used.\n",
        "\n",
        "The binomial distribution is used when:  \n",
        "- A fixed number of trials  \n",
        "- Each trial has only 2 outcomes (success/failure)  \n",
        "- Constant probability of success  \n",
        "- Trials are independent  \n",
        "\n",
        "Example: Flipping a coin 10 times\n",
        "\n",
        "9. Explain the properties of the normal distribution and the empirical rule (68-95-99.7 rule).\n",
        "\n",
        "- Bell-shaped, symmetric  \n",
        "- Mean = Median = Mode  \n",
        "\n",
        "Empirical Rule:  \n",
        "- 68% of data within 1 standard deviation  \n",
        "- 95% within 2  \n",
        "- 99.7% within 3\n",
        "\n",
        "10. Provide a real-life example of a Poisson process and calculate the probability for a specific event.\n",
        "\n",
        "Example: 3 emails/hour on average. Probability of getting exactly 5 emails?\n",
        "\n",
        "```python\n",
        "from scipy.stats import poisson\n",
        "\n",
        "mu = 3\n",
        "k = 5\n",
        "prob = poisson.pmf(k, mu)\n",
        "print(f\"Probability of receiving exactly 5 emails: {prob:.4f}\")\n"
      ],
      "metadata": {
        "id": "Emq_okjaZQJv"
      }
    }
  ]
}